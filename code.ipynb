{
 "cells": [
  {
   "cell_type": "markdown",
   "metadata": {},
   "source": [
    "***\n",
    "***\n",
    "# __Project 2__ : Logistic Regression\n",
    "\n",
    "\n",
    "\n",
    "### __Team Members__\n",
    "- __Masixole Boya__ - 1869204\n",
    "- __Lebohang Mosia__ - 2320396\n",
    "- __Thapelo__ - 2493083\n",
    "- __Lusanda Mdlhalose__ - 2332720\n",
    "\n",
    "***\n",
    "***"
   ]
  },
  {
   "cell_type": "markdown",
   "metadata": {},
   "source": [
    "# __0. Imports__"
   ]
  }
